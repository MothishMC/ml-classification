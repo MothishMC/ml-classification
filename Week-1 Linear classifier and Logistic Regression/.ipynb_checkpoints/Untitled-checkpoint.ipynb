{
 "cells": [
  {
   "cell_type": "code",
   "execution_count": 1,
   "metadata": {},
   "outputs": [],
   "source": [
    "import pandas as pd\n",
    "\n",
    "corpus = [\"This is totally fine\",\n",
    "          \"It is extremely awesome\",\n",
    "          \"Very boring class\"]"
   ]
  },
  {
   "cell_type": "code",
   "execution_count": 2,
   "metadata": {},
   "outputs": [
    {
     "name": "stdout",
     "output_type": "stream",
     "text": [
      "CountVectorizer()\n"
     ]
    }
   ],
   "source": [
    "from sklearn.feature_extraction.text import CountVectorizer\n",
    "cv=CountVectorizer()\n",
    "\n",
    "x = cv.fit(corpus)   # learn the vocabularies \n",
    "print(x)"
   ]
  },
  {
   "cell_type": "code",
   "execution_count": 3,
   "metadata": {},
   "outputs": [
    {
     "name": "stdout",
     "output_type": "stream",
     "text": [
      "{'this': 7, 'is': 5, 'totally': 8, 'fine': 4, 'it': 6, 'extremely': 3, 'awesome': 0, 'very': 9, 'boring': 1, 'class': 2}\n"
     ]
    }
   ],
   "source": [
    "print(x.vocabulary_) # dictionary of words and their correspondin indices "
   ]
  },
  {
   "cell_type": "code",
   "execution_count": 4,
   "metadata": {},
   "outputs": [
    {
     "name": "stdout",
     "output_type": "stream",
     "text": [
      "['awesome', 'boring', 'class', 'extremely', 'fine', 'is', 'it', 'this', 'totally', 'very']\n"
     ]
    }
   ],
   "source": [
    "print(cv.get_feature_names())"
   ]
  },
  {
   "cell_type": "code",
   "execution_count": 15,
   "metadata": {},
   "outputs": [
    {
     "name": "stdout",
     "output_type": "stream",
     "text": [
      "  (0, 4)\t1\n",
      "  (0, 5)\t1\n",
      "  (0, 7)\t1\n",
      "  (0, 8)\t1\n",
      "  (1, 0)\t1\n",
      "  (1, 3)\t1\n",
      "  (1, 5)\t1\n",
      "  (1, 6)\t1\n",
      "  (2, 1)\t1\n",
      "  (2, 2)\t1\n",
      "  (2, 9)\t1\n"
     ]
    }
   ],
   "source": [
    "x = cv.transform(corpus)  # transforms the matrix into document_term_matrix\n",
    "print(x)                 # Will print in which [i,j] there are non-zero values"
   ]
  },
  {
   "cell_type": "code",
   "execution_count": 14,
   "metadata": {},
   "outputs": [
    {
     "name": "stdout",
     "output_type": "stream",
     "text": [
      "(3, 10)\n"
     ]
    }
   ],
   "source": [
    "print(x.shape)     # row --> 3(number of documents) and column --> 10(number of unique words)"
   ]
  },
  {
   "cell_type": "code",
   "execution_count": 8,
   "metadata": {},
   "outputs": [
    {
     "name": "stdout",
     "output_type": "stream",
     "text": [
      "[[0 0 0 0 1 1 0 1 1 0]\n",
      " [1 0 0 1 0 1 1 0 0 0]\n",
      " [0 1 1 0 0 0 0 0 0 1]]\n"
     ]
    }
   ],
   "source": [
    "print(x.toarray())"
   ]
  },
  {
   "cell_type": "code",
   "execution_count": null,
   "metadata": {},
   "outputs": [],
   "source": []
  },
  {
   "cell_type": "code",
   "execution_count": 3,
   "metadata": {},
   "outputs": [
    {
     "name": "stdout",
     "output_type": "stream",
     "text": [
      "   awesome  boring  class  extremely  fine  is  it  this  totally  very\n",
      "0        0       0      0          0     1   1   0     1        1     0\n",
      "1        1       0      0          1     0   1   1     0        0     0\n",
      "2        0       1      1          0     0   0   0     0        0     1\n"
     ]
    }
   ],
   "source": [
    "## To represent the document-term matrix in a data-frame\n",
    "df=pd.DataFrame(x.toarray(),columns = cv.get_feature_names())\n",
    "print(df)"
   ]
  },
  {
   "cell_type": "code",
   "execution_count": 10,
   "metadata": {},
   "outputs": [
    {
     "name": "stdout",
     "output_type": "stream",
     "text": [
      "[90, 32, 89, 21]\n",
      "[3 1 2 0]\n"
     ]
    }
   ],
   "source": [
    "print(list1)\n",
    "print(np.argsort(list1,axis=0))# Consider that the array is sorted,will return the indices of this sorted array"
   ]
  },
  {
   "cell_type": "code",
   "execution_count": 23,
   "metadata": {},
   "outputs": [
    {
     "name": "stdout",
     "output_type": "stream",
     "text": [
      "[[1, 2, 3], [7, 8, 9], [4, 5, 6]]\n",
      "Along the row : \n",
      "[0 1 2] [0 1 2] [0 1 2]\n",
      "Along the column : \n",
      "[0 0 0] [2 2 2] [1 1 1]\n"
     ]
    }
   ],
   "source": [
    "print(list2)\n",
    "print('Along the row : ')\n",
    "print(*np.argsort(list2,axis=1))\n",
    "\n",
    "print('Along the column : ')\n",
    "print(*np.argsort(list2,axis=0))"
   ]
  },
  {
   "cell_type": "code",
   "execution_count": 22,
   "metadata": {},
   "outputs": [],
   "source": [
    "list2=[\n",
    "    [1,2,3],\n",
    "    [7,8,9],\n",
    "    [4,5,6] \n",
    "]"
   ]
  },
  {
   "cell_type": "code",
   "execution_count": 19,
   "metadata": {},
   "outputs": [],
   "source": [
    "process_size = [10,40,20,30,50]\n",
    "buffer_size  = [15,55,25,43,31]\n",
    "diff = []"
   ]
  },
  {
   "cell_type": "code",
   "execution_count": 24,
   "metadata": {},
   "outputs": [
    {
     "name": "stdout",
     "output_type": "stream",
     "text": [
      "10 size Process0 goes into the block 0\n",
      "[5, 45, 15, 33, 21]\n",
      "40 size Process1 goes into the block 3\n",
      "[25, 15, 15, 3, 9]\n",
      "20 size Process2 goes into the block 0\n",
      "[5, 35, 5, 23, 11]\n",
      "30 size Process3 goes into the block 4\n",
      "[15, 25, 5, 13, 1]\n",
      "50 size Process4 goes into the block 1\n",
      "[35, 5, 25, 7, 19]\n"
     ]
    }
   ],
   "source": [
    "for i in range(len(process_size)):\n",
    "    process = process_size[i]\n",
    "    for j in range(len(buffer_size)):\n",
    "            diff.append(abs(buffer_size[j]-process))\n",
    "    minimum_element = min(diff)\n",
    "    index   = diff.index(minimum_element)\n",
    "    print(\"{} size Process{} goes into the block {}\".format(process,i,index))    \n",
    "    print(diff)\n",
    "    diff = []"
   ]
  },
  {
   "cell_type": "code",
   "execution_count": 44,
   "metadata": {},
   "outputs": [
    {
     "name": "stdout",
     "output_type": "stream",
     "text": [
      "Process1 of size 10 is going into the block 1\n",
      "Process2 of size 40 is going into the block 4\n",
      "Process3 of size 20 is going into the block 3\n",
      "Process4 of size 30 is going into the block 5\n",
      "Process5 of size 50 is going into the block 2\n"
     ]
    }
   ],
   "source": [
    "for i in range(len(process_size)):\n",
    "    process = process_size[i]\n",
    "    for j in range(len(buffer_size)):\n",
    "        if process<buffer_size[j]:\n",
    "            diff.append(((abs(buffer_size[j]-process)),j))\n",
    "    minimum_element = min(diff)\n",
    "    \n",
    "    print(\"Process{} of size {} is going into the block {}\".format(i+1,process,minimum_element[1]+1))\n",
    "    diff=[]"
   ]
  },
  {
   "cell_type": "code",
   "execution_count": 37,
   "metadata": {},
   "outputs": [
    {
     "data": {
      "text/plain": [
       "[10, 40, 20, 30, 50]"
      ]
     },
     "execution_count": 37,
     "metadata": {},
     "output_type": "execute_result"
    }
   ],
   "source": [
    "process_size"
   ]
  },
  {
   "cell_type": "code",
   "execution_count": 38,
   "metadata": {},
   "outputs": [
    {
     "data": {
      "text/plain": [
       "[15, 55, 25, 43, 31]"
      ]
     },
     "execution_count": 38,
     "metadata": {},
     "output_type": "execute_result"
    }
   ],
   "source": [
    "buffer_size"
   ]
  },
  {
   "cell_type": "code",
   "execution_count": null,
   "metadata": {},
   "outputs": [],
   "source": []
  }
 ],
 "metadata": {
  "kernelspec": {
   "display_name": "Python 3",
   "language": "python",
   "name": "python3"
  },
  "language_info": {
   "codemirror_mode": {
    "name": "ipython",
    "version": 3
   },
   "file_extension": ".py",
   "mimetype": "text/x-python",
   "name": "python",
   "nbconvert_exporter": "python",
   "pygments_lexer": "ipython3",
   "version": "3.7.6"
  }
 },
 "nbformat": 4,
 "nbformat_minor": 4
}
