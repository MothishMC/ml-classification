{
 "cells": [
  {
   "cell_type": "code",
   "execution_count": 1,
   "id": "4116f212",
   "metadata": {},
   "outputs": [],
   "source": [
    "import numpy as np\n",
    "import pandas as pd\n",
    "from sklearn.feature_extraction.text import CountVectorizer"
   ]
  },
  {
   "cell_type": "code",
   "execution_count": 2,
   "id": "1fcfb266",
   "metadata": {},
   "outputs": [],
   "source": [
    "def create_document_term_matrix(message_list , vectorizer):\n",
    "    fit = vectorizer.fit(message_list)\n",
    "    print(pd.DataFrame(fit.vocabulary_.items()))\n",
    "    \n",
    "    ## fit_transform()\n",
    "    document_term_matrix = vectorizer.transform(message_list)\n",
    "    return pd.DataFrame(document_term_matrix.toarray(),\n",
    "                                           columns = vectorizer.get_feature_names())"
   ]
  },
  {
   "cell_type": "code",
   "execution_count": 3,
   "id": "acbb14fa",
   "metadata": {},
   "outputs": [],
   "source": [
    "document = [\"My name is Prashanth\",\n",
    "                        \"Prashanth is working in Apple Silicon\",\n",
    "                        \"Aiming to become a good ML Engineer\"]"
   ]
  },
  {
   "cell_type": "code",
   "execution_count": 4,
   "id": "f99a10c0",
   "metadata": {},
   "outputs": [],
   "source": [
    "count_vect = CountVectorizer()"
   ]
  },
  {
   "cell_type": "code",
   "execution_count": 5,
   "id": "5423c20c",
   "metadata": {},
   "outputs": [
    {
     "name": "stdout",
     "output_type": "stream",
     "text": [
      "            0   1\n",
      "0          my   8\n",
      "1        name   9\n",
      "2          is   6\n",
      "3   prashanth  10\n",
      "4     working  13\n",
      "5          in   5\n",
      "6       apple   1\n",
      "7     silicon  11\n",
      "8      aiming   0\n",
      "9          to  12\n",
      "10     become   2\n",
      "11       good   4\n",
      "12         ml   7\n",
      "13   engineer   3\n"
     ]
    },
    {
     "data": {
      "text/html": [
       "<div>\n",
       "<style scoped>\n",
       "    .dataframe tbody tr th:only-of-type {\n",
       "        vertical-align: middle;\n",
       "    }\n",
       "\n",
       "    .dataframe tbody tr th {\n",
       "        vertical-align: top;\n",
       "    }\n",
       "\n",
       "    .dataframe thead th {\n",
       "        text-align: right;\n",
       "    }\n",
       "</style>\n",
       "<table border=\"1\" class=\"dataframe\">\n",
       "  <thead>\n",
       "    <tr style=\"text-align: right;\">\n",
       "      <th></th>\n",
       "      <th>aiming</th>\n",
       "      <th>apple</th>\n",
       "      <th>become</th>\n",
       "      <th>engineer</th>\n",
       "      <th>good</th>\n",
       "      <th>in</th>\n",
       "      <th>is</th>\n",
       "      <th>ml</th>\n",
       "      <th>my</th>\n",
       "      <th>name</th>\n",
       "      <th>prashanth</th>\n",
       "      <th>silicon</th>\n",
       "      <th>to</th>\n",
       "      <th>working</th>\n",
       "    </tr>\n",
       "  </thead>\n",
       "  <tbody>\n",
       "    <tr>\n",
       "      <th>0</th>\n",
       "      <td>0</td>\n",
       "      <td>0</td>\n",
       "      <td>0</td>\n",
       "      <td>0</td>\n",
       "      <td>0</td>\n",
       "      <td>0</td>\n",
       "      <td>1</td>\n",
       "      <td>0</td>\n",
       "      <td>1</td>\n",
       "      <td>1</td>\n",
       "      <td>1</td>\n",
       "      <td>0</td>\n",
       "      <td>0</td>\n",
       "      <td>0</td>\n",
       "    </tr>\n",
       "    <tr>\n",
       "      <th>1</th>\n",
       "      <td>0</td>\n",
       "      <td>1</td>\n",
       "      <td>0</td>\n",
       "      <td>0</td>\n",
       "      <td>0</td>\n",
       "      <td>1</td>\n",
       "      <td>1</td>\n",
       "      <td>0</td>\n",
       "      <td>0</td>\n",
       "      <td>0</td>\n",
       "      <td>1</td>\n",
       "      <td>1</td>\n",
       "      <td>0</td>\n",
       "      <td>1</td>\n",
       "    </tr>\n",
       "    <tr>\n",
       "      <th>2</th>\n",
       "      <td>1</td>\n",
       "      <td>0</td>\n",
       "      <td>1</td>\n",
       "      <td>1</td>\n",
       "      <td>1</td>\n",
       "      <td>0</td>\n",
       "      <td>0</td>\n",
       "      <td>1</td>\n",
       "      <td>0</td>\n",
       "      <td>0</td>\n",
       "      <td>0</td>\n",
       "      <td>0</td>\n",
       "      <td>1</td>\n",
       "      <td>0</td>\n",
       "    </tr>\n",
       "  </tbody>\n",
       "</table>\n",
       "</div>"
      ],
      "text/plain": [
       "   aiming  apple  become  engineer  good  in  is  ml  my  name  prashanth  \\\n",
       "0       0      0       0         0     0   0   1   0   1     1          1   \n",
       "1       0      1       0         0     0   1   1   0   0     0          1   \n",
       "2       1      0       1         1     1   0   0   1   0     0          0   \n",
       "\n",
       "   silicon  to  working  \n",
       "0        0   0        0  \n",
       "1        1   0        1  \n",
       "2        0   1        0  "
      ]
     },
     "execution_count": 5,
     "metadata": {},
     "output_type": "execute_result"
    }
   ],
   "source": [
    "create_document_term_matrix(document, count_vect)"
   ]
  },
  {
   "cell_type": "code",
   "execution_count": 6,
   "id": "c44159e4",
   "metadata": {},
   "outputs": [
    {
     "name": "stdout",
     "output_type": "stream",
     "text": [
      "Features used :\n",
      "  ['aiming', 'apple', 'become', 'engineer', 'good', 'in', 'is', 'ml', 'my', 'name', 'prashanth', 'silicon', 'to', 'working']\n"
     ]
    }
   ],
   "source": [
    "print(\"Features used :\\n \",count_vect.get_feature_names())"
   ]
  },
  {
   "cell_type": "code",
   "execution_count": null,
   "id": "49b60948",
   "metadata": {},
   "outputs": [],
   "source": []
  },
  {
   "cell_type": "code",
   "execution_count": null,
   "id": "960b62f4",
   "metadata": {},
   "outputs": [],
   "source": []
  }
 ],
 "metadata": {
  "kernelspec": {
   "display_name": "Python 3",
   "language": "python",
   "name": "python3"
  },
  "language_info": {
   "codemirror_mode": {
    "name": "ipython",
    "version": 3
   },
   "file_extension": ".py",
   "mimetype": "text/x-python",
   "name": "python",
   "nbconvert_exporter": "python",
   "pygments_lexer": "ipython3",
   "version": "3.8.8"
  }
 },
 "nbformat": 4,
 "nbformat_minor": 5
}
