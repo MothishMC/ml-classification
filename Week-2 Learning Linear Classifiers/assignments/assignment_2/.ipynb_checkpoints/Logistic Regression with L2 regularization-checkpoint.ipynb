{
 "cells": [
  {
   "cell_type": "markdown",
   "id": "cdceedca",
   "metadata": {},
   "source": [
    "## Assignment_goal"
   ]
  },
  {
   "cell_type": "markdown",
   "id": "6437e3a0",
   "metadata": {},
   "source": [
    "<img src = \"clips/assignment_goal.jpg\">"
   ]
  },
  {
   "cell_type": "code",
   "execution_count": null,
   "id": "39580a52",
   "metadata": {},
   "outputs": [],
   "source": []
  },
  {
   "cell_type": "markdown",
   "id": "920d28d4",
   "metadata": {},
   "source": [
    "<img src = \"clips/1_Load and process review dataset.jpg\">"
   ]
  },
  {
   "cell_type": "code",
   "execution_count": null,
   "id": "d73b6a51",
   "metadata": {},
   "outputs": [],
   "source": []
  }
 ],
 "metadata": {
  "kernelspec": {
   "display_name": "Python 3",
   "language": "python",
   "name": "python3"
  },
  "language_info": {
   "codemirror_mode": {
    "name": "ipython",
    "version": 3
   },
   "file_extension": ".py",
   "mimetype": "text/x-python",
   "name": "python",
   "nbconvert_exporter": "python",
   "pygments_lexer": "ipython3",
   "version": "3.8.8"
  }
 },
 "nbformat": 4,
 "nbformat_minor": 5
}
