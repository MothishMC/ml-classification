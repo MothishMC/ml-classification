{
 "cells": [
  {
   "cell_type": "markdown",
   "id": "cdceedca",
   "metadata": {},
   "source": [
    "## Assignment_goal"
   ]
  },
  {
   "cell_type": "markdown",
   "id": "eebfc42f",
   "metadata": {},
   "source": [
    "<img src = \"clips/assignment_goal.jpg\">"
   ]
  },
  {
   "cell_type": "code",
   "execution_count": null,
   "id": "b0ab9c8c",
   "metadata": {},
   "outputs": [],
   "source": []
  },
  {
   "cell_type": "markdown",
   "id": "3756ac96",
   "metadata": {},
   "source": [
    "<img src = \"clips/1_Load and process review dataset.jpg\">"
   ]
  },
  {
   "cell_type": "code",
   "execution_count": null,
   "id": "0fcfa436",
   "metadata": {},
   "outputs": [],
   "source": [
    "products = "
   ]
  }
 ],
 "metadata": {
  "kernelspec": {
   "display_name": "Python 3",
   "language": "python",
   "name": "python3"
  },
  "language_info": {
   "codemirror_mode": {
    "name": "ipython",
    "version": 3
   },
   "file_extension": ".py",
   "mimetype": "text/x-python",
   "name": "python",
   "nbconvert_exporter": "python",
   "pygments_lexer": "ipython3",
   "version": "3.8.8"
  }
 },
 "nbformat": 4,
 "nbformat_minor": 5
}
