{
 "cells": [
  {
   "cell_type": "markdown",
   "id": "5dac3d7d",
   "metadata": {},
   "source": [
    "<video width=\"320\" height=\"240\" controls>\n",
    "<source src=\"../audio_recordings/auc_roc_curve.mp4\" type=\"video/mp4\">\n",
    "</video>"
   ]
  },
  {
   "cell_type": "code",
   "execution_count": null,
   "id": "f61616df",
   "metadata": {},
   "outputs": [],
   "source": [
    "import numpy as np\n",
    "import pandas as pd\n",
    "\n",
    "import matplotlib.pyplot as plt\n",
    "%matplotlib inline\n",
    "import seaborn as sns\n",
    "\n",
    "import warnings\n",
    "warnings.filterwarnings('ignore')\n",
    "\n",
    "from sklearn.model_selection import train_test_split\n",
    "from sklearn.model_selection import GridSearchCV\n",
    "from sklearn.linear_model import LogisticRegression\n",
    "\n",
    "from sklearn.metrics import roc_auc_score,roc_curve\n",
    "from sklearn.metrics import confusion_matrix , accuracy_score , classification_report\n",
    "from sklearn.metrics import plot_roc_curve\n",
    "from sklearn.metrics import auc"
   ]
  },
  {
   "cell_type": "code",
   "execution_count": 2,
   "id": "e01d1952",
   "metadata": {},
   "outputs": [
    {
     "data": {
      "text/html": [
       "<div>\n",
       "<style scoped>\n",
       "    .dataframe tbody tr th:only-of-type {\n",
       "        vertical-align: middle;\n",
       "    }\n",
       "\n",
       "    .dataframe tbody tr th {\n",
       "        vertical-align: top;\n",
       "    }\n",
       "\n",
       "    .dataframe thead th {\n",
       "        text-align: right;\n",
       "    }\n",
       "</style>\n",
       "<table border=\"1\" class=\"dataframe\">\n",
       "  <thead>\n",
       "    <tr style=\"text-align: right;\">\n",
       "      <th></th>\n",
       "      <th>age</th>\n",
       "      <th>sex</th>\n",
       "      <th>cp</th>\n",
       "      <th>trestbps</th>\n",
       "      <th>chol</th>\n",
       "      <th>fbs</th>\n",
       "      <th>restecg</th>\n",
       "      <th>thalach</th>\n",
       "      <th>exang</th>\n",
       "      <th>oldpeak</th>\n",
       "      <th>slope</th>\n",
       "      <th>ca</th>\n",
       "      <th>thal</th>\n",
       "      <th>target</th>\n",
       "    </tr>\n",
       "  </thead>\n",
       "  <tbody>\n",
       "    <tr>\n",
       "      <th>0</th>\n",
       "      <td>63</td>\n",
       "      <td>1</td>\n",
       "      <td>3</td>\n",
       "      <td>145</td>\n",
       "      <td>233</td>\n",
       "      <td>1</td>\n",
       "      <td>0</td>\n",
       "      <td>150</td>\n",
       "      <td>0</td>\n",
       "      <td>2.3</td>\n",
       "      <td>0</td>\n",
       "      <td>0</td>\n",
       "      <td>1</td>\n",
       "      <td>1</td>\n",
       "    </tr>\n",
       "    <tr>\n",
       "      <th>1</th>\n",
       "      <td>37</td>\n",
       "      <td>1</td>\n",
       "      <td>2</td>\n",
       "      <td>130</td>\n",
       "      <td>250</td>\n",
       "      <td>0</td>\n",
       "      <td>1</td>\n",
       "      <td>187</td>\n",
       "      <td>0</td>\n",
       "      <td>3.5</td>\n",
       "      <td>0</td>\n",
       "      <td>0</td>\n",
       "      <td>2</td>\n",
       "      <td>1</td>\n",
       "    </tr>\n",
       "    <tr>\n",
       "      <th>2</th>\n",
       "      <td>41</td>\n",
       "      <td>0</td>\n",
       "      <td>1</td>\n",
       "      <td>130</td>\n",
       "      <td>204</td>\n",
       "      <td>0</td>\n",
       "      <td>0</td>\n",
       "      <td>172</td>\n",
       "      <td>0</td>\n",
       "      <td>1.4</td>\n",
       "      <td>2</td>\n",
       "      <td>0</td>\n",
       "      <td>2</td>\n",
       "      <td>1</td>\n",
       "    </tr>\n",
       "    <tr>\n",
       "      <th>3</th>\n",
       "      <td>56</td>\n",
       "      <td>1</td>\n",
       "      <td>1</td>\n",
       "      <td>120</td>\n",
       "      <td>236</td>\n",
       "      <td>0</td>\n",
       "      <td>1</td>\n",
       "      <td>178</td>\n",
       "      <td>0</td>\n",
       "      <td>0.8</td>\n",
       "      <td>2</td>\n",
       "      <td>0</td>\n",
       "      <td>2</td>\n",
       "      <td>1</td>\n",
       "    </tr>\n",
       "    <tr>\n",
       "      <th>4</th>\n",
       "      <td>57</td>\n",
       "      <td>0</td>\n",
       "      <td>0</td>\n",
       "      <td>120</td>\n",
       "      <td>354</td>\n",
       "      <td>0</td>\n",
       "      <td>1</td>\n",
       "      <td>163</td>\n",
       "      <td>1</td>\n",
       "      <td>0.6</td>\n",
       "      <td>2</td>\n",
       "      <td>0</td>\n",
       "      <td>2</td>\n",
       "      <td>1</td>\n",
       "    </tr>\n",
       "  </tbody>\n",
       "</table>\n",
       "</div>"
      ],
      "text/plain": [
       "   age  sex  cp  trestbps  chol  fbs  restecg  thalach  exang  oldpeak  slope  \\\n",
       "0   63    1   3       145   233    1        0      150      0      2.3      0   \n",
       "1   37    1   2       130   250    0        1      187      0      3.5      0   \n",
       "2   41    0   1       130   204    0        0      172      0      1.4      2   \n",
       "3   56    1   1       120   236    0        1      178      0      0.8      2   \n",
       "4   57    0   0       120   354    0        1      163      1      0.6      2   \n",
       "\n",
       "   ca  thal  target  \n",
       "0   0     1       1  \n",
       "1   0     2       1  \n",
       "2   0     2       1  \n",
       "3   0     2       1  \n",
       "4   0     2       1  "
      ]
     },
     "execution_count": 2,
     "metadata": {},
     "output_type": "execute_result"
    }
   ],
   "source": [
    "df = pd.read_csv('heart.csv')\n",
    "df.head()"
   ]
  },
  {
   "cell_type": "code",
   "execution_count": 3,
   "id": "c8f99f43",
   "metadata": {},
   "outputs": [],
   "source": [
    "X = df.drop('target', axis=1)\n",
    "y = df.target\n",
    "\n",
    "x_train, x_test, y_train, y_test = train_test_split(X, y, test_size=0.25,random_state=56)"
   ]
  },
  {
   "cell_type": "code",
   "execution_count": 4,
   "id": "e7d04239",
   "metadata": {},
   "outputs": [],
   "source": [
    "clf = LogisticRegression(max_iter=1000)\n",
    "clf.fit(x_train, y_train)\n",
    "y_pred_test = clf.predict(x_test)"
   ]
  },
  {
   "cell_type": "code",
   "execution_count": 6,
   "id": "9fd766b9",
   "metadata": {},
   "outputs": [],
   "source": [
    "def calc_TP_FP_FN_TN(y_test, y_pred):\n",
    "    \n",
    "    # Convert predictions to series with index matching y_true\n",
    "    y_pred = pd.Series(y_pred, index=y_test.index)\n",
    "    \n",
    "    # Instantiate counters\n",
    "    FN = TN = FP = TP = 0 \n",
    "\n",
    "    # Determine whether each prediction is TP, FP, TN, or FN\n",
    "    for i in y_test.index: \n",
    "        if (y_test[i]==y_pred[i]==1):   TP += 1\n",
    "        if (y_test[i]==y_pred[i]==0):   TN += 1\n",
    "                \n",
    "        if (y_pred[i]==1 and y_test[i]!=y_pred[i]):   FP += 1\n",
    "        if (y_pred[i]==0 and y_test[i]!=y_pred[i]):   FN += 1\n",
    "\n",
    "    return TP,FP,FN,TN"
   ]
  },
  {
   "cell_type": "code",
   "execution_count": 7,
   "id": "6eaca96c",
   "metadata": {},
   "outputs": [],
   "source": [
    "def calc_TP_FP_rate(TP,FP,FN,TN):\n",
    "    tpr = TP / (TP + FN)\n",
    "    fpr = FP / (FP + TN)\n",
    "    return tpr,fpr"
   ]
  },
  {
   "attachments": {
    "image.png": {
     "image/png": "[encoded data removed]"
    }
   },
   "cell_type": "markdown",
   "id": "c1140efc",
   "metadata": {},
   "source": [
    "![image.png](attachment:image.png)"
   ]
  },
  {
   "cell_type": "code",
   "execution_count": 10,
   "id": "de4cb916",
   "metadata": {},
   "outputs": [
    {
     "name": "stdout",
     "output_type": "stream",
     "text": [
      "True positive  :  27 False positive :  7\n",
      "False negative :  12 True negative  :  30\n"
     ]
    }
   ],
   "source": [
    "# Test function\n",
    "\n",
    "TP,FP,FN,TN = calc_TP_FP_FN_TN(y_test, y_pred_test)\n",
    "print(\"True positive  : \",TP , \"False positive : \",FP)\n",
    "print(\"False negative : \",FN , \"True negative  : \",TN)"
   ]
  },
  {
   "cell_type": "code",
   "execution_count": 11,
   "id": "54c03364",
   "metadata": {},
   "outputs": [
    {
     "data": {
      "text/plain": [
       "array([[30,  7],\n",
       "       [12, 27]], dtype=int64)"
      ]
     },
     "execution_count": 11,
     "metadata": {},
     "output_type": "execute_result"
    }
   ],
   "source": [
    "y_predict = clf.predict(x_test)\n",
    "confusion_matrix(y_test,y_predict)"
   ]
  },
  {
   "cell_type": "code",
   "execution_count": 13,
   "id": "a28b54cf",
   "metadata": {},
   "outputs": [
    {
     "name": "stdout",
     "output_type": "stream",
     "text": [
      "True positive rate  :  0.6923076923076923\n",
      "False positive rate  :  0.1891891891891892\n"
     ]
    }
   ],
   "source": [
    "# Calculate true positive rate and false positive rate\n",
    "tpr,fpr = calc_TP_FP_rate(TP,FP,FN,TN)\n",
    "\n",
    "print(\"True positive rate  : \",tpr)  ## 69%\n",
    "print(\"False positive rate  : \",fpr)  ## 18%"
   ]
  },
  {
   "cell_type": "code",
   "execution_count": 15,
   "id": "ec1f3b48",
   "metadata": {},
   "outputs": [
    {
     "name": "stdout",
     "output_type": "stream",
     "text": [
      "True positive rate  :  0.6923076923076923\n",
      "False positive rate  :  0.1891891891891892\n"
     ]
    }
   ],
   "source": [
    "fpr, tpr, threshold = roc_curve(y_test , y_predict)\n",
    "auc = roc_auc_score(y_test , y_predict)\n",
    "\n",
    "print(\"True positive rate  : \",tpr[1])\n",
    "print(\"False positive rate  : \",fpr[1])"
   ]
  },
  {
   "cell_type": "code",
   "execution_count": 16,
   "id": "c3e0d48f",
   "metadata": {},
   "outputs": [
    {
     "name": "stdout",
     "output_type": "stream",
     "text": [
      "              precision    recall  f1-score   support\n",
      "\n",
      "           0       0.71      0.81      0.76        37\n",
      "           1       0.79      0.69      0.74        39\n",
      "\n",
      "    accuracy                           0.75        76\n",
      "   macro avg       0.75      0.75      0.75        76\n",
      "weighted avg       0.76      0.75      0.75        76\n",
      "\n"
     ]
    }
   ],
   "source": [
    "print(classification_report(y_test , y_predict))"
   ]
  },
  {
   "cell_type": "markdown",
   "id": "cc088a85",
   "metadata": {},
   "source": [
    "## Now we are going to find the threshold by plotting a ROC curve"
   ]
  },
  {
   "cell_type": "markdown",
   "id": "684bfe32",
   "metadata": {},
   "source": [
    "### LOGISTIC REGRESSION (NO REGULARIZATION)"
   ]
  },
  {
   "cell_type": "code",
   "execution_count": 17,
   "id": "0da408a1",
   "metadata": {},
   "outputs": [],
   "source": [
    "X = df.drop('target', axis=1)\n",
    "y = df.target\n",
    "\n",
    "x_train, x_test, y_train, y_test = train_test_split(X, y, test_size=0.25,random_state=56)"
   ]
  },
  {
   "cell_type": "code",
   "execution_count": 18,
   "id": "35c82be0",
   "metadata": {},
   "outputs": [
    {
     "data": {
      "text/html": [
       "<div>\n",
       "<style scoped>\n",
       "    .dataframe tbody tr th:only-of-type {\n",
       "        vertical-align: middle;\n",
       "    }\n",
       "\n",
       "    .dataframe tbody tr th {\n",
       "        vertical-align: top;\n",
       "    }\n",
       "\n",
       "    .dataframe thead th {\n",
       "        text-align: right;\n",
       "    }\n",
       "</style>\n",
       "<table border=\"1\" class=\"dataframe\">\n",
       "  <thead>\n",
       "    <tr style=\"text-align: right;\">\n",
       "      <th></th>\n",
       "      <th>Probability of occuring 0 [Neagative review]</th>\n",
       "      <th>Probability of occuring 1 [Positive review]</th>\n",
       "    </tr>\n",
       "  </thead>\n",
       "  <tbody>\n",
       "    <tr>\n",
       "      <th>0</th>\n",
       "      <td>0.177719</td>\n",
       "      <td>0.822281</td>\n",
       "    </tr>\n",
       "    <tr>\n",
       "      <th>1</th>\n",
       "      <td>0.899451</td>\n",
       "      <td>0.100549</td>\n",
       "    </tr>\n",
       "    <tr>\n",
       "      <th>2</th>\n",
       "      <td>0.189678</td>\n",
       "      <td>0.810322</td>\n",
       "    </tr>\n",
       "    <tr>\n",
       "      <th>3</th>\n",
       "      <td>0.946519</td>\n",
       "      <td>0.053481</td>\n",
       "    </tr>\n",
       "    <tr>\n",
       "      <th>4</th>\n",
       "      <td>0.030499</td>\n",
       "      <td>0.969501</td>\n",
       "    </tr>\n",
       "  </tbody>\n",
       "</table>\n",
       "</div>"
      ],
      "text/plain": [
       "   Probability of occuring 0 [Neagative review]  \\\n",
       "0                                      0.177719   \n",
       "1                                      0.899451   \n",
       "2                                      0.189678   \n",
       "3                                      0.946519   \n",
       "4                                      0.030499   \n",
       "\n",
       "   Probability of occuring 1 [Positive review]  \n",
       "0                                     0.822281  \n",
       "1                                     0.100549  \n",
       "2                                     0.810322  \n",
       "3                                     0.053481  \n",
       "4                                     0.969501  "
      ]
     },
     "execution_count": 18,
     "metadata": {},
     "output_type": "execute_result"
    }
   ],
   "source": [
    "# Fit and predict test class probabilities\n",
    "lr = LogisticRegression(max_iter=1000, penalty='none')\n",
    "lr.fit(x_train, y_train)\n",
    "\n",
    "sample_df = pd.DataFrame(lr.predict_proba(x_test) , \n",
    "    columns = ['Probability of occuring 0 [Neagative review]' ,\n",
    "               'Probability of occuring 1 [Positive review]' ])\n",
    "sample_df.head()"
   ]
  },
  {
   "cell_type": "code",
   "execution_count": 24,
   "id": "72a3ca7b",
   "metadata": {},
   "outputs": [],
   "source": [
    "## I am taking only the probability of occuring 1 (i.e positive reviews)\n",
    "y_test_probability = lr.predict_proba(x_test)[:,1] "
   ]
  },
  {
   "cell_type": "code",
   "execution_count": 25,
   "id": "614ce7dc",
   "metadata": {},
   "outputs": [],
   "source": [
    "# Containers for true positive / false positive rates\n",
    "#lr_tp_rates = lr_fp_rates = []\n",
    "\n",
    "lr_tp_rates = []\n",
    "lr_fp_rates = []\n",
    "\n",
    "# Define probability thresholds to use, between 0 and 1\n",
    "probability_thresholds = np.linspace(0,1,num=100)"
   ]
  },
  {
   "cell_type": "code",
   "execution_count": 26,
   "id": "fc177cc0",
   "metadata": {},
   "outputs": [],
   "source": [
    "# Find true positive / false positive rate for each threshold\n",
    "for i in probability_thresholds:\n",
    "    y_test_predict = []\n",
    "    \n",
    "    for j in y_test_probability:  ## with the probabilities going into the probabilities \n",
    "        \n",
    "        ## probability greater than the threshold\n",
    "        if j>i:  y_test_predict.append(1)    ## positive review\n",
    "            \n",
    "        ## probability lesser than the threshold\n",
    "        else  :  y_test_predict.append(0)    ## negative review\n",
    "        \n",
    "    TP,FP,FN,TN = calc_TP_FP_FN_TN(y_test, y_test_predict)\n",
    "    tpr,fpr     = calc_TP_FP_rate(TP,FP,FN,TN)\n",
    "    \n",
    "    lr_tp_rates.append(tpr)\n",
    "    lr_fp_rates.append(fpr)"
   ]
  },
  {
   "cell_type": "code",
   "execution_count": 27,
   "id": "075c384d",
   "metadata": {},
   "outputs": [
    {
     "data": {
      "text/html": [
       "<div>\n",
       "<style scoped>\n",
       "    .dataframe tbody tr th:only-of-type {\n",
       "        vertical-align: middle;\n",
       "    }\n",
       "\n",
       "    .dataframe tbody tr th {\n",
       "        vertical-align: top;\n",
       "    }\n",
       "\n",
       "    .dataframe thead th {\n",
       "        text-align: right;\n",
       "    }\n",
       "</style>\n",
       "<table border=\"1\" class=\"dataframe\">\n",
       "  <thead>\n",
       "    <tr style=\"text-align: right;\">\n",
       "      <th></th>\n",
       "      <th>threshold</th>\n",
       "      <th>True positive rate</th>\n",
       "      <th>False postitive rate</th>\n",
       "    </tr>\n",
       "  </thead>\n",
       "  <tbody>\n",
       "    <tr>\n",
       "      <th>0</th>\n",
       "      <td>0.000000</td>\n",
       "      <td>1.0</td>\n",
       "      <td>1.000000</td>\n",
       "    </tr>\n",
       "    <tr>\n",
       "      <th>1</th>\n",
       "      <td>0.010101</td>\n",
       "      <td>1.0</td>\n",
       "      <td>0.837838</td>\n",
       "    </tr>\n",
       "    <tr>\n",
       "      <th>2</th>\n",
       "      <td>0.020202</td>\n",
       "      <td>1.0</td>\n",
       "      <td>0.756757</td>\n",
       "    </tr>\n",
       "    <tr>\n",
       "      <th>3</th>\n",
       "      <td>0.030303</td>\n",
       "      <td>1.0</td>\n",
       "      <td>0.675676</td>\n",
       "    </tr>\n",
       "    <tr>\n",
       "      <th>4</th>\n",
       "      <td>0.040404</td>\n",
       "      <td>1.0</td>\n",
       "      <td>0.621622</td>\n",
       "    </tr>\n",
       "  </tbody>\n",
       "</table>\n",
       "</div>"
      ],
      "text/plain": [
       "   threshold  True positive rate  False postitive rate\n",
       "0   0.000000                 1.0              1.000000\n",
       "1   0.010101                 1.0              0.837838\n",
       "2   0.020202                 1.0              0.756757\n",
       "3   0.030303                 1.0              0.675676\n",
       "4   0.040404                 1.0              0.621622"
      ]
     },
     "execution_count": 27,
     "metadata": {},
     "output_type": "execute_result"
    }
   ],
   "source": [
    "pd.DataFrame({\n",
    "    'threshold' : probability_thresholds,\n",
    "    'True positive rate' : lr_tp_rates,\n",
    "    'False postitive rate' : lr_fp_rates\n",
    "}).head()"
   ]
  },
  {
   "cell_type": "code",
   "execution_count": 28,
   "id": "9b4188f2",
   "metadata": {},
   "outputs": [
    {
     "data": {
      "image/png": "[encoded data removed]",
      "text/plain": [
       "<Figure size 432x432 with 1 Axes>"
      ]
     },
     "metadata": {
      "needs_background": "light"
     },
     "output_type": "display_data"
    }
   ],
   "source": [
    "fig, ax = plt.subplots(figsize=(6,6))\n",
    "ax.plot(lr_fp_rates, lr_tp_rates, label='Logistic Regression')\n",
    "ax.set_xlabel('False Positive Rate')\n",
    "ax.set_ylabel('True Positive Rate')\n",
    "ax.legend();"
   ]
  },
  {
   "cell_type": "code",
   "execution_count": 30,
   "id": "5ea78115",
   "metadata": {},
   "outputs": [
    {
     "data": {
      "image/png": "[encoded data removed]",
      "text/plain": [
       "<Figure size 432x288 with 1 Axes>"
      ]
     },
     "metadata": {
      "needs_background": "light"
     },
     "output_type": "display_data"
    }
   ],
   "source": [
    "## via sklearn\n",
    "plot_roc_curve(lr, x_test, y_test, name = 'Logistic Regression')\n",
    "\n",
    "plt.xlabel(\"False Positive Rate\")\n",
    "plt.ylabel(\"True Positive Rate\")\n",
    "plt.title(\"Reciever Operating Characteristic (ROC) Curve\")\n",
    "\n",
    "plt.legend()\n",
    "plt.show()"
   ]
  },
  {
   "cell_type": "code",
   "execution_count": 31,
   "id": "4133bd5a",
   "metadata": {},
   "outputs": [
    {
     "name": "stdout",
     "output_type": "stream",
     "text": [
      "Area Under the curve :  0.9043659043659044\n"
     ]
    }
   ],
   "source": [
    "print(\"Area Under the curve : \",roc_auc_score(y_test, y_test_probability))"
   ]
  },
  {
   "cell_type": "markdown",
   "id": "56a4b474",
   "metadata": {},
   "source": [
    "### Logistic Regression (L2 regularization)"
   ]
  },
  {
   "cell_type": "code",
   "execution_count": 32,
   "id": "037ec979",
   "metadata": {},
   "outputs": [
    {
     "data": {
      "text/html": [
       "<div>\n",
       "<style scoped>\n",
       "    .dataframe tbody tr th:only-of-type {\n",
       "        vertical-align: middle;\n",
       "    }\n",
       "\n",
       "    .dataframe tbody tr th {\n",
       "        vertical-align: top;\n",
       "    }\n",
       "\n",
       "    .dataframe thead th {\n",
       "        text-align: right;\n",
       "    }\n",
       "</style>\n",
       "<table border=\"1\" class=\"dataframe\">\n",
       "  <thead>\n",
       "    <tr style=\"text-align: right;\">\n",
       "      <th></th>\n",
       "      <th>Probability of occuring 0 [Neagative review]</th>\n",
       "      <th>Probability of occuring 1 [Positive review]</th>\n",
       "    </tr>\n",
       "  </thead>\n",
       "  <tbody>\n",
       "    <tr>\n",
       "      <th>0</th>\n",
       "      <td>0.172543</td>\n",
       "      <td>0.827457</td>\n",
       "    </tr>\n",
       "    <tr>\n",
       "      <th>1</th>\n",
       "      <td>0.877514</td>\n",
       "      <td>0.122486</td>\n",
       "    </tr>\n",
       "    <tr>\n",
       "      <th>2</th>\n",
       "      <td>0.207549</td>\n",
       "      <td>0.792451</td>\n",
       "    </tr>\n",
       "    <tr>\n",
       "      <th>3</th>\n",
       "      <td>0.931821</td>\n",
       "      <td>0.068179</td>\n",
       "    </tr>\n",
       "    <tr>\n",
       "      <th>4</th>\n",
       "      <td>0.055341</td>\n",
       "      <td>0.944659</td>\n",
       "    </tr>\n",
       "  </tbody>\n",
       "</table>\n",
       "</div>"
      ],
      "text/plain": [
       "   Probability of occuring 0 [Neagative review]  \\\n",
       "0                                      0.172543   \n",
       "1                                      0.877514   \n",
       "2                                      0.207549   \n",
       "3                                      0.931821   \n",
       "4                                      0.055341   \n",
       "\n",
       "   Probability of occuring 1 [Positive review]  \n",
       "0                                     0.827457  \n",
       "1                                     0.122486  \n",
       "2                                     0.792451  \n",
       "3                                     0.068179  \n",
       "4                                     0.944659  "
      ]
     },
     "execution_count": 32,
     "metadata": {},
     "output_type": "execute_result"
    }
   ],
   "source": [
    "# Fit and predict test class probabilities\n",
    "lr_2 = LogisticRegression(max_iter=1000, penalty='l2')\n",
    "lr_2.fit(x_train, y_train)\n",
    "\n",
    "sample_df = pd.DataFrame(lr_2.predict_proba(x_test) , \n",
    "    columns = ['Probability of occuring 0 [Neagative review]' ,\n",
    "               'Probability of occuring 1 [Positive review]' ])\n",
    "sample_df.head()"
   ]
  },
  {
   "cell_type": "code",
   "execution_count": 33,
   "id": "377f0ebf",
   "metadata": {},
   "outputs": [],
   "source": [
    "## I am taking only the probability of occuring 1 (i.e positive reviews)\n",
    "y_test_probability = lr_2.predict_proba(x_test)[:,1] "
   ]
  },
  {
   "cell_type": "code",
   "execution_count": 34,
   "id": "ca6b13b0",
   "metadata": {},
   "outputs": [],
   "source": [
    "# Containers for true positive / false positive rates\n",
    "lr_2_tp_rates = []\n",
    "lr_2_fp_rates = []\n",
    "\n",
    "# Define probability thresholds to use, between 0 and 1\n",
    "probability_thresholds = np.linspace(0,1,num=100)"
   ]
  },
  {
   "cell_type": "code",
   "execution_count": 35,
   "id": "d4954d8b",
   "metadata": {},
   "outputs": [],
   "source": [
    "# Find true positive / false positive rate for each threshold\n",
    "for i in probability_thresholds:\n",
    "    y_test_predict = []\n",
    "    \n",
    "    for j in y_test_probability:  ## with the probabilities going into the probabilities \n",
    "        \n",
    "        ## probability greater than the threshold\n",
    "        if j>i:  y_test_predict.append(1)    ## positive review\n",
    "            \n",
    "        ## probability lesser than the threshold\n",
    "        else  :  y_test_predict.append(0)    ## negative review\n",
    "        \n",
    "    TP,FP,FN,TN = calc_TP_FP_FN_TN(y_test, y_test_predict)\n",
    "    tpr,fpr     = calc_TP_FP_rate(TP,FP,FN,TN)\n",
    "    \n",
    "    lr_2_tp_rates.append(tpr)\n",
    "    lr_2_fp_rates.append(fpr)"
   ]
  },
  {
   "cell_type": "code",
   "execution_count": 36,
   "id": "ad9560ea",
   "metadata": {},
   "outputs": [
    {
     "data": {
      "text/html": [
       "<div>\n",
       "<style scoped>\n",
       "    .dataframe tbody tr th:only-of-type {\n",
       "        vertical-align: middle;\n",
       "    }\n",
       "\n",
       "    .dataframe tbody tr th {\n",
       "        vertical-align: top;\n",
       "    }\n",
       "\n",
       "    .dataframe thead th {\n",
       "        text-align: right;\n",
       "    }\n",
       "</style>\n",
       "<table border=\"1\" class=\"dataframe\">\n",
       "  <thead>\n",
       "    <tr style=\"text-align: right;\">\n",
       "      <th></th>\n",
       "      <th>threshold</th>\n",
       "      <th>True positive rate</th>\n",
       "      <th>False postitive rate</th>\n",
       "    </tr>\n",
       "  </thead>\n",
       "  <tbody>\n",
       "    <tr>\n",
       "      <th>0</th>\n",
       "      <td>0.000000</td>\n",
       "      <td>1.0</td>\n",
       "      <td>1.000000</td>\n",
       "    </tr>\n",
       "    <tr>\n",
       "      <th>1</th>\n",
       "      <td>0.010101</td>\n",
       "      <td>1.0</td>\n",
       "      <td>0.891892</td>\n",
       "    </tr>\n",
       "    <tr>\n",
       "      <th>2</th>\n",
       "      <td>0.020202</td>\n",
       "      <td>1.0</td>\n",
       "      <td>0.810811</td>\n",
       "    </tr>\n",
       "    <tr>\n",
       "      <th>3</th>\n",
       "      <td>0.030303</td>\n",
       "      <td>1.0</td>\n",
       "      <td>0.783784</td>\n",
       "    </tr>\n",
       "    <tr>\n",
       "      <th>4</th>\n",
       "      <td>0.040404</td>\n",
       "      <td>1.0</td>\n",
       "      <td>0.702703</td>\n",
       "    </tr>\n",
       "  </tbody>\n",
       "</table>\n",
       "</div>"
      ],
      "text/plain": [
       "   threshold  True positive rate  False postitive rate\n",
       "0   0.000000                 1.0              1.000000\n",
       "1   0.010101                 1.0              0.891892\n",
       "2   0.020202                 1.0              0.810811\n",
       "3   0.030303                 1.0              0.783784\n",
       "4   0.040404                 1.0              0.702703"
      ]
     },
     "execution_count": 36,
     "metadata": {},
     "output_type": "execute_result"
    }
   ],
   "source": [
    "pd.DataFrame({\n",
    "    'threshold' : probability_thresholds,\n",
    "    'True positive rate' : lr_2_tp_rates,\n",
    "    'False postitive rate' : lr_2_fp_rates\n",
    "}).head()\n"
   ]
  },
  {
   "cell_type": "code",
   "execution_count": 37,
   "id": "cf0a7fb9",
   "metadata": {},
   "outputs": [
    {
     "data": {
      "image/png": "[encoded data removed]",
      "text/plain": [
       "<Figure size 432x432 with 1 Axes>"
      ]
     },
     "metadata": {
      "needs_background": "light"
     },
     "output_type": "display_data"
    }
   ],
   "source": [
    "fig, ax = plt.subplots(figsize=(6,6))\n",
    "ax.plot(lr_2_fp_rates, lr_2_tp_rates, label='L2 Logistic Regression')\n",
    "ax.set_xlabel('False Positive Rate')\n",
    "ax.set_ylabel('True Positive Rate')\n",
    "ax.legend();"
   ]
  },
  {
   "cell_type": "code",
   "execution_count": 38,
   "id": "d9309960",
   "metadata": {},
   "outputs": [
    {
     "data": {
      "image/png": "[encoded data removed]",
      "text/plain": [
       "<Figure size 432x288 with 1 Axes>"
      ]
     },
     "metadata": {
      "needs_background": "light"
     },
     "output_type": "display_data"
    }
   ],
   "source": [
    "## via sklearn\n",
    "plot_roc_curve(lr, x_test, y_test, name = 'Logistic Regression')\n",
    "\n",
    "plt.xlabel(\"False Positive Rate\")\n",
    "plt.ylabel(\"True Positive Rate\")\n",
    "plt.title(\"Reciever Operating Characteristic (ROC) Curve\")\n",
    "\n",
    "plt.legend()\n",
    "plt.show()"
   ]
  },
  {
   "cell_type": "code",
   "execution_count": 40,
   "id": "4ff67892",
   "metadata": {},
   "outputs": [
    {
     "name": "stdout",
     "output_type": "stream",
     "text": [
      "Area Under the curve :  0.9112959112959113\n"
     ]
    }
   ],
   "source": [
    "print(\"Area Under the curve : \",roc_auc_score(y_test, y_test_probability))"
   ]
  },
  {
   "cell_type": "markdown",
   "id": "f22beb1a",
   "metadata": {},
   "source": [
    "### Combining both Normal Legularization and L2 Legularization"
   ]
  },
  {
   "cell_type": "code",
   "execution_count": 41,
   "id": "17664236",
   "metadata": {},
   "outputs": [
    {
     "data": {
      "image/png": "[encoded data removed]",
      "text/plain": [
       "<Figure size 432x432 with 1 Axes>"
      ]
     },
     "metadata": {
      "needs_background": "light"
     },
     "output_type": "display_data"
    }
   ],
   "source": [
    "fig, ax = plt.subplots(figsize=(6,6))\n",
    "\n",
    "ax.plot(lr_fp_rates, lr_tp_rates,     label='Logistic Regression')\n",
    "ax.plot(lr_2_fp_rates, lr_2_tp_rates, label='L2 Logistic Regression')\n",
    "\n",
    "ax.set_xlabel('False Positive Rate')\n",
    "ax.set_ylabel('True Positive Rate')\n",
    "ax.legend();"
   ]
  },
  {
   "cell_type": "code",
   "execution_count": 42,
   "id": "39936a1f",
   "metadata": {},
   "outputs": [
    {
     "data": {
      "image/png": "[encoded data removed]",
      "text/plain": [
       "<Figure size 432x288 with 1 Axes>"
      ]
     },
     "metadata": {
      "needs_background": "light"
     },
     "output_type": "display_data"
    },
    {
     "data": {
      "image/png": "[encoded data removed]",
      "text/plain": [
       "<Figure size 432x288 with 1 Axes>"
      ]
     },
     "metadata": {
      "needs_background": "light"
     },
     "output_type": "display_data"
    }
   ],
   "source": [
    "plot_roc_curve(lr, x_test, y_test, name = 'L2 Logistic Regression')\n",
    "plot_roc_curve(lr_2, x_test, y_test, name = 'L2 Logistic Regression')\n",
    "\n",
    "plt.xlabel(\"False Positive Rate\")\n",
    "plt.ylabel(\"True Positive Rate\")\n",
    "plt.title(\"Reciever Operating Characteristic (ROC) Curve\")\n",
    "\n",
    "plt.legend()\n",
    "plt.show()"
   ]
  },
  {
   "cell_type": "code",
   "execution_count": null,
   "id": "0b875c9a",
   "metadata": {},
   "outputs": [],
   "source": []
  },
  {
   "cell_type": "code",
   "execution_count": null,
   "id": "e4602194",
   "metadata": {},
   "outputs": [],
   "source": []
  },
  {
   "cell_type": "code",
   "execution_count": null,
   "id": "46cbc15d",
   "metadata": {},
   "outputs": [],
   "source": []
  }
 ],
 "metadata": {
  "kernelspec": {
   "display_name": "Python 3",
   "language": "python",
   "name": "python3"
  },
  "language_info": {
   "codemirror_mode": {
    "name": "ipython",
    "version": 3
   },
   "file_extension": ".py",
   "mimetype": "text/x-python",
   "name": "python",
   "nbconvert_exporter": "python",
   "pygments_lexer": "ipython3",
   "version": "3.8.8"
  }
 },
 "nbformat": 4,
 "nbformat_minor": 5
}
